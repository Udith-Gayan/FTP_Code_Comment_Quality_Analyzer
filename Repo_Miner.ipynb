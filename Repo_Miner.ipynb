{
  "nbformat": 4,
  "nbformat_minor": 0,
  "metadata": {
    "colab": {
      "name": "Repo_Miner.ipynb",
      "provenance": [],
      "collapsed_sections": [],
      "authorship_tag": "ABX9TyM0sw4tQKN+Rv115eDoqAdC",
      "include_colab_link": true
    },
    "kernelspec": {
      "name": "python3",
      "display_name": "Python 3"
    },
    "language_info": {
      "name": "python"
    }
  },
  "cells": [
    {
      "cell_type": "markdown",
      "metadata": {
        "id": "view-in-github",
        "colab_type": "text"
      },
      "source": [
        "<a href=\"https://colab.research.google.com/github/Udith-Gayan/FYP_Code_Comment_Quality_Analyzer/blob/main/Repo_Miner.ipynb\" target=\"_parent\"><img src=\"https://colab.research.google.com/assets/colab-badge.svg\" alt=\"Open In Colab\"/></a>"
      ]
    },
    {
      "cell_type": "markdown",
      "metadata": {
        "id": "2WY1ZlMmhaIF"
      },
      "source": [
        "##Total Star count of repositories"
      ]
    },
    {
      "cell_type": "code",
      "metadata": {
        "id": "0BpwTWPdtY6O"
      },
      "source": [
        "import requests  # Import the requests library\n",
        "import gspread  # Google sheet\n",
        "\n",
        "import pandas as pd\n",
        "from google.colab import auth\n",
        "from oauth2client.client import GoogleCredentials\n"
      ],
      "execution_count": 1,
      "outputs": []
    },
    {
      "cell_type": "code",
      "metadata": {
        "colab": {
          "base_uri": "https://localhost:8080/"
        },
        "id": "FIidRx3UhnVk",
        "outputId": "e935a425-0fd3-48bd-d2e1-752d277eb323"
      },
      "source": [
        "\n",
        "\n",
        "def getRepoStarCount(url):\n",
        "  user = url.split('https://github.com/')[1].split('/')[0]\n",
        "  repoName = url.split('https://github.com/')[1].split('/')[1]\n",
        "  api_url = 'https://api.github.com/repos/' + user + '/' + repoName\n",
        "  \n",
        "  response = requests.get(api_url)  # Make a GET request to the URL\n",
        "  print(response.json())\n",
        "  \n",
        "  # Print status code (and associated text)\n",
        "  # print(f\"Request returned {response.status_code} : '{response.reason}'\")\n",
        "\n",
        "  payload = response.json()  # Parse `response.text` into JSON\n",
        "  starCount = payload['stargazers_count']\n",
        "  return starCount\n",
        "\n",
        "print(getRepoStarCount('https://github.com/e32wong/CloCom/blob/master/MatchGroup.java'))\n"
      ],
      "execution_count": 2,
      "outputs": [
        {
          "output_type": "stream",
          "text": [
            "{'id': 26790529, 'node_id': 'MDEwOlJlcG9zaXRvcnkyNjc5MDUyOQ==', 'name': 'CloCom', 'full_name': 'e32wong/CloCom', 'private': False, 'owner': {'login': 'e32wong', 'id': 9814980, 'node_id': 'MDQ6VXNlcjk4MTQ5ODA=', 'avatar_url': 'https://avatars.githubusercontent.com/u/9814980?v=4', 'gravatar_id': '', 'url': 'https://api.github.com/users/e32wong', 'html_url': 'https://github.com/e32wong', 'followers_url': 'https://api.github.com/users/e32wong/followers', 'following_url': 'https://api.github.com/users/e32wong/following{/other_user}', 'gists_url': 'https://api.github.com/users/e32wong/gists{/gist_id}', 'starred_url': 'https://api.github.com/users/e32wong/starred{/owner}{/repo}', 'subscriptions_url': 'https://api.github.com/users/e32wong/subscriptions', 'organizations_url': 'https://api.github.com/users/e32wong/orgs', 'repos_url': 'https://api.github.com/users/e32wong/repos', 'events_url': 'https://api.github.com/users/e32wong/events{/privacy}', 'received_events_url': 'https://api.github.com/users/e32wong/received_events', 'type': 'User', 'site_admin': False}, 'html_url': 'https://github.com/e32wong/CloCom', 'description': 'Utilizing code clone detection to generate comments automatically.', 'fork': False, 'url': 'https://api.github.com/repos/e32wong/CloCom', 'forks_url': 'https://api.github.com/repos/e32wong/CloCom/forks', 'keys_url': 'https://api.github.com/repos/e32wong/CloCom/keys{/key_id}', 'collaborators_url': 'https://api.github.com/repos/e32wong/CloCom/collaborators{/collaborator}', 'teams_url': 'https://api.github.com/repos/e32wong/CloCom/teams', 'hooks_url': 'https://api.github.com/repos/e32wong/CloCom/hooks', 'issue_events_url': 'https://api.github.com/repos/e32wong/CloCom/issues/events{/number}', 'events_url': 'https://api.github.com/repos/e32wong/CloCom/events', 'assignees_url': 'https://api.github.com/repos/e32wong/CloCom/assignees{/user}', 'branches_url': 'https://api.github.com/repos/e32wong/CloCom/branches{/branch}', 'tags_url': 'https://api.github.com/repos/e32wong/CloCom/tags', 'blobs_url': 'https://api.github.com/repos/e32wong/CloCom/git/blobs{/sha}', 'git_tags_url': 'https://api.github.com/repos/e32wong/CloCom/git/tags{/sha}', 'git_refs_url': 'https://api.github.com/repos/e32wong/CloCom/git/refs{/sha}', 'trees_url': 'https://api.github.com/repos/e32wong/CloCom/git/trees{/sha}', 'statuses_url': 'https://api.github.com/repos/e32wong/CloCom/statuses/{sha}', 'languages_url': 'https://api.github.com/repos/e32wong/CloCom/languages', 'stargazers_url': 'https://api.github.com/repos/e32wong/CloCom/stargazers', 'contributors_url': 'https://api.github.com/repos/e32wong/CloCom/contributors', 'subscribers_url': 'https://api.github.com/repos/e32wong/CloCom/subscribers', 'subscription_url': 'https://api.github.com/repos/e32wong/CloCom/subscription', 'commits_url': 'https://api.github.com/repos/e32wong/CloCom/commits{/sha}', 'git_commits_url': 'https://api.github.com/repos/e32wong/CloCom/git/commits{/sha}', 'comments_url': 'https://api.github.com/repos/e32wong/CloCom/comments{/number}', 'issue_comment_url': 'https://api.github.com/repos/e32wong/CloCom/issues/comments{/number}', 'contents_url': 'https://api.github.com/repos/e32wong/CloCom/contents/{+path}', 'compare_url': 'https://api.github.com/repos/e32wong/CloCom/compare/{base}...{head}', 'merges_url': 'https://api.github.com/repos/e32wong/CloCom/merges', 'archive_url': 'https://api.github.com/repos/e32wong/CloCom/{archive_format}{/ref}', 'downloads_url': 'https://api.github.com/repos/e32wong/CloCom/downloads', 'issues_url': 'https://api.github.com/repos/e32wong/CloCom/issues{/number}', 'pulls_url': 'https://api.github.com/repos/e32wong/CloCom/pulls{/number}', 'milestones_url': 'https://api.github.com/repos/e32wong/CloCom/milestones{/number}', 'notifications_url': 'https://api.github.com/repos/e32wong/CloCom/notifications{?since,all,participating}', 'labels_url': 'https://api.github.com/repos/e32wong/CloCom/labels{/name}', 'releases_url': 'https://api.github.com/repos/e32wong/CloCom/releases{/id}', 'deployments_url': 'https://api.github.com/repos/e32wong/CloCom/deployments', 'created_at': '2014-11-18T03:39:44Z', 'updated_at': '2019-10-08T22:38:48Z', 'pushed_at': '2019-08-26T20:42:32Z', 'git_url': 'git://github.com/e32wong/CloCom.git', 'ssh_url': 'git@github.com:e32wong/CloCom.git', 'clone_url': 'https://github.com/e32wong/CloCom.git', 'svn_url': 'https://github.com/e32wong/CloCom', 'homepage': '', 'size': 53113, 'stargazers_count': 14, 'watchers_count': 14, 'language': 'Java', 'has_issues': True, 'has_projects': True, 'has_downloads': True, 'has_wiki': True, 'has_pages': False, 'forks_count': 10, 'mirror_url': None, 'archived': False, 'disabled': False, 'open_issues_count': 0, 'license': {'key': 'gpl-2.0', 'name': 'GNU General Public License v2.0', 'spdx_id': 'GPL-2.0', 'url': 'https://api.github.com/licenses/gpl-2.0', 'node_id': 'MDc6TGljZW5zZTg='}, 'forks': 10, 'open_issues': 0, 'watchers': 14, 'default_branch': 'master', 'temp_clone_token': None, 'network_count': 10, 'subscribers_count': 1}\n",
            "14\n"
          ],
          "name": "stdout"
        }
      ]
    },
    {
      "cell_type": "code",
      "metadata": {
        "id": "TZ077y_VtcR9"
      },
      "source": [
        "auth.authenticate_user()\n",
        "gc = gspread.authorize(GoogleCredentials.get_application_default())\n"
      ],
      "execution_count": 3,
      "outputs": []
    },
    {
      "cell_type": "code",
      "metadata": {
        "colab": {
          "base_uri": "https://localhost:8080/",
          "height": 229
        },
        "id": "Kxu8Hpjyxe5Q",
        "outputId": "1aad2960-cb40-4204-8545-7a0fafd91798"
      },
      "source": [
        "worksheet1 = gc.open('java_commented_file_urls').sheet1\n",
        "\n",
        "# get_all_values gives a list of rows.\n",
        "rows = worksheet1.get_all_values()\n",
        "\n",
        "url_list = list()\n",
        "for row in rows:\n",
        "  url_list.append(row[0])\n",
        "  print(i)\n",
        "\n",
        "corresponding_star_count_list = []\n",
        "for url in url_list:\n",
        "  c = getRepoStarCount(url)\n",
        "  corresponding_star_count_list.append(c)\n",
        "\n",
        "worksheet1.update_cells('B1', corresponding_star_count_list )\n"
      ],
      "execution_count": 6,
      "outputs": [
        {
          "output_type": "error",
          "ename": "ValueError",
          "evalue": "ignored",
          "traceback": [
            "\u001b[0;31m---------------------------------------------------------------------------\u001b[0m",
            "\u001b[0;31mValueError\u001b[0m                                Traceback (most recent call last)",
            "\u001b[0;32m<ipython-input-6-42ba6a2bbe67>\u001b[0m in \u001b[0;36m<module>\u001b[0;34m()\u001b[0m\n\u001b[1;32m      5\u001b[0m \u001b[0;34m\u001b[0m\u001b[0m\n\u001b[1;32m      6\u001b[0m \u001b[0murl_list\u001b[0m \u001b[0;34m=\u001b[0m \u001b[0mlist\u001b[0m\u001b[0;34m(\u001b[0m\u001b[0;34m)\u001b[0m\u001b[0;34m\u001b[0m\u001b[0;34m\u001b[0m\u001b[0m\n\u001b[0;32m----> 7\u001b[0;31m \u001b[0;32mfor\u001b[0m \u001b[0mrow\u001b[0m\u001b[0;34m,\u001b[0m\u001b[0mi\u001b[0m \u001b[0;32min\u001b[0m \u001b[0mrows\u001b[0m\u001b[0;34m:\u001b[0m\u001b[0;34m\u001b[0m\u001b[0;34m\u001b[0m\u001b[0m\n\u001b[0m\u001b[1;32m      8\u001b[0m   \u001b[0murl_list\u001b[0m\u001b[0;34m.\u001b[0m\u001b[0mappend\u001b[0m\u001b[0;34m(\u001b[0m\u001b[0mrow\u001b[0m\u001b[0;34m[\u001b[0m\u001b[0;36m0\u001b[0m\u001b[0;34m]\u001b[0m\u001b[0;34m)\u001b[0m\u001b[0;34m\u001b[0m\u001b[0;34m\u001b[0m\u001b[0m\n\u001b[1;32m      9\u001b[0m   \u001b[0mprint\u001b[0m\u001b[0;34m(\u001b[0m\u001b[0mi\u001b[0m\u001b[0;34m)\u001b[0m\u001b[0;34m\u001b[0m\u001b[0;34m\u001b[0m\u001b[0m\n",
            "\u001b[0;31mValueError\u001b[0m: not enough values to unpack (expected 2, got 1)"
          ]
        }
      ]
    },
    {
      "cell_type": "code",
      "metadata": {
        "colab": {
          "base_uri": "https://localhost:8080/"
        },
        "id": "tgvcjqTCA3dK",
        "outputId": "68adf450-afde-41fe-8cd1-dff62849dfe2"
      },
      "source": [
        "print(corresponding_star_count_list)"
      ],
      "execution_count": 5,
      "outputs": [
        {
          "output_type": "stream",
          "text": [
            "[130, 14, 14, 14, 14, 14, 14, 14, 14, 14, 14, 14, 14, 14, 14, 14, 14, 14, 14, 14, 14]\n"
          ],
          "name": "stdout"
        }
      ]
    }
  ]
}